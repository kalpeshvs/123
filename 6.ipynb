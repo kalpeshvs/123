{
 "cells": [
  {
   "cell_type": "code",
   "execution_count": null,
   "id": "bf0c69f5",
   "metadata": {},
   "outputs": [],
   "source": [
    "\n",
    "import pandas as pd\n",
    "import numpy as np\n",
    "import matplotlib.pyplot as plt\n",
    "%matplotlib inline\n",
    "import seaborn as sns\n",
    "df = pd.read_csv(\"iris.csv\")\n",
    "df\n",
    "\n",
    "sns.relplot(data=df, x='SepalWidthCm', y='SepalLengthCm', hue='Species')\n",
    "# repeat the same command above but with PetalWidthCm and PetalLengthCm in x and y respectively.\n",
    "sns.pairplot(df, hue='Species')\n",
    "\n",
    "plt.figure(figsize=(15,10))\n",
    "plt.subplot(2,2,1)\n",
    "sns.boxplot(data=df, x='Species', y='PetalLengthCm')\n",
    "\n",
    "plt.subplot(2,2,2)\n",
    "sns.boxplot(data=df, x='Species', y='PetalWidthCm')\n",
    "\n",
    "plt.subplot(2,2,3)\n",
    "sns.boxplot(data=df, x='Species', y='SepalLengthCm')\n",
    "\n",
    "plt.subplot(2,2,4)\n",
    "sns.boxplot(data=df, x='Species', y='SepalWidthCm')\n",
    "\n",
    "plt.subplots(figsize=(8,8))\n",
    "sns.heatmap(df.corr(), annot=True, fmt='f').set_title(\"Correlation of attributes\")\n",
    "\n",
    "x = df.iloc[:, 1:5].values\n",
    "x\n",
    "\n",
    "y = df.iloc[:, 5].values\n",
    "y\n",
    "\n",
    "from sklearn.preprocessing import LabelEncoder\n",
    "le = LabelEncoder()\n",
    "y = le.fit_transform(y)\n",
    "y\n",
    "\n",
    "from sklearn.model_selection import train_test_split as tts\n",
    "\n",
    "x_train, x_test, y_train, y_test = tts(x, y, test_size=0.3, random_state=42)\n",
    "\n",
    "from sklearn.naive_bayes import GaussianNB\n",
    "gB = GaussianNB()\n",
    "gB.fit(x_train, y_train)\n",
    "\n",
    "pred = gB.predict(x_test)\n",
    "pred"
   ]
  }
 ],
 "metadata": {
  "kernelspec": {
   "display_name": "Python 3 (ipykernel)",
   "language": "python",
   "name": "python3"
  },
  "language_info": {
   "codemirror_mode": {
    "name": "ipython",
    "version": 3
   },
   "file_extension": ".py",
   "mimetype": "text/x-python",
   "name": "python",
   "nbconvert_exporter": "python",
   "pygments_lexer": "ipython3",
   "version": "3.10.9"
  }
 },
 "nbformat": 4,
 "nbformat_minor": 5
}
