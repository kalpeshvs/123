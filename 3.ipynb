{
 "cells": [
  {
   "cell_type": "code",
   "execution_count": null,
   "id": "8fb5eded",
   "metadata": {},
   "outputs": [],
   "source": [
    "\n",
    "import pandas as pd\n",
    "import numpy as np\n",
    "\n",
    "df = pd.read_csv(\"iris.csv\")\n",
    "df\n",
    "\n",
    "df.shape\n",
    "\n",
    "df.isnull().sum()\n",
    "\n",
    "df.dtypes\n",
    "\n",
    "df.info()\n",
    "\n",
    "df.drop(columns='Id', inplace=True)\n",
    "df\n",
    "\n",
    "np.std(df)\n",
    "\n",
    "np.mean(df)\n",
    "\n",
    "np.min(df)\n",
    "\n",
    "np.max(df)\n",
    "\n",
    "df.quantile(0.25)\n",
    "\n",
    "df.quantile(0.50)\n",
    "\n",
    "df.quantile(0.75)"
   ]
  }
 ],
 "metadata": {
  "kernelspec": {
   "display_name": "Python 3 (ipykernel)",
   "language": "python",
   "name": "python3"
  },
  "language_info": {
   "codemirror_mode": {
    "name": "ipython",
    "version": 3
   },
   "file_extension": ".py",
   "mimetype": "text/x-python",
   "name": "python",
   "nbconvert_exporter": "python",
   "pygments_lexer": "ipython3",
   "version": "3.10.9"
  }
 },
 "nbformat": 4,
 "nbformat_minor": 5
}
