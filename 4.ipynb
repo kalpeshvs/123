{
 "cells": [
  {
   "cell_type": "code",
   "execution_count": null,
   "id": "998bf5af",
   "metadata": {},
   "outputs": [],
   "source": [
    "from sklearn.datasets import load_boston\n",
    "\n",
    "boston = load_boston()\n",
    "type(boston)\n",
    "\n",
    "import pandas as pd\n",
    "import numpy as np\n",
    "from sklearn import linear_model\n",
    "from sklearn.model_selection import train_test_split as tts\n",
    "\n",
    "df_x = pd.DataFrame(boston.data, columns=boston.feature_names)\n",
    "df_x\n",
    "\n",
    "df_y = pd.DataFrame(boston.target)\n",
    "df_y\n",
    "\n",
    "df_x.describe()\n",
    "\n",
    "df_y.describe()\n",
    "\n",
    "reg = linear_model.LinearRegression()\n",
    "\n",
    "x_train, x_test, y_train, y_test = tts(df_x, df_y, test_size=0.3, train_size=0.7, random_state=42)\n",
    "\n",
    "reg.fit(x_train, y_train)\n",
    "\n",
    "reg.coef_\n",
    "\n",
    "y_pred = reg.predict(x_test)\n",
    "y_pred\n",
    "\n",
    "y_test\n",
    "\n",
    "from sklearn.metrics import mean_squared_error\n",
    "print(mean_squared_error(y_test, y_pred))"
   ]
  }
 ],
 "metadata": {
  "kernelspec": {
   "display_name": "Python 3 (ipykernel)",
   "language": "python",
   "name": "python3"
  },
  "language_info": {
   "codemirror_mode": {
    "name": "ipython",
    "version": 3
   },
   "file_extension": ".py",
   "mimetype": "text/x-python",
   "name": "python",
   "nbconvert_exporter": "python",
   "pygments_lexer": "ipython3",
   "version": "3.10.9"
  }
 },
 "nbformat": 4,
 "nbformat_minor": 5
}
