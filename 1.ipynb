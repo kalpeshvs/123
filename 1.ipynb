{
 "cells": [
  {
   "cell_type": "code",
   "execution_count": null,
   "id": "c125bc3a",
   "metadata": {},
   "outputs": [],
   "source": [
    "import numpy as np\n",
    "import pandas as pd\n",
    "\n",
    "df= pd.read_csv(\"train.csv\")\n",
    "df\n",
    "#check dimensions of the dataframe\n",
    "df.shape\n",
    "df.columns\n",
    "df.size\n",
    "df.dtypes\n",
    "df.isnull().sum()\n",
    "df.describe() #check the initial statistics\n",
    "df.info() # print info about the dataframe\n",
    "# Handling missing values\n",
    "# fillna(): using this method we can replace null(NaN) values with some other\n",
    "# interpolate(): performs linear interpolation we can change null with result\n",
    "# dropna(): It will drop all rows that have NaN values\n",
    "\n",
    "df[\"Cabin\"]=df[\"Cabin\"].replace(to_replace=np.nan,value=\"unknown\")\n",
    "# we've replaced the null or nan value with unknown\n",
    "\n",
    "df[\"Age\"] = df[\"Age\"].interpolate()  # this will replace the null values with result\n",
    "df[\"Embarked\"].fillna(method=\"ffill\",inplace=True) # ffill means forward fill this will replace missing values of the embarked column \n",
    "df\n",
    "\n",
    "#changing the datatypes\n",
    "df[\"Age\"]=df[\"Age\"].astype(\"int64\")\n",
    "df.dtypes\n",
    "\n",
    "# Turning the categorical variables into quantitive\n",
    "quantitative_data = pd.get_dummies(df.Embarked,prefix=\"Embarked\")\n",
    "# convert categorical data into dummy variables for every unique category it will create binary column\n",
    "\n",
    "df=df.join(quantitative_data) # this will join the quantitative dataframe to df\n",
    "df\n",
    "\n",
    "df.drop(['Embarked'],axis=1,inplace=True) # delete the column Embarked\n",
    "\n",
    "quantitative_sex = pd.get_dummies(df.Sex,prefix=\"Sex\")\n",
    "quantitative_sex\n",
    "\n",
    "df = df.join(quantitative_sex)\n",
    "df"
   ]
  }
 ],
 "metadata": {
  "kernelspec": {
   "display_name": "Python 3 (ipykernel)",
   "language": "python",
   "name": "python3"
  },
  "language_info": {
   "codemirror_mode": {
    "name": "ipython",
    "version": 3
   },
   "file_extension": ".py",
   "mimetype": "text/x-python",
   "name": "python",
   "nbconvert_exporter": "python",
   "pygments_lexer": "ipython3",
   "version": "3.10.9"
  }
 },
 "nbformat": 4,
 "nbformat_minor": 5
}
